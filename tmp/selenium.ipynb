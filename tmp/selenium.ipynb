{
 "cells": [
  {
   "cell_type": "code",
   "execution_count": 7,
   "metadata": {},
   "outputs": [],
   "source": [
    "from webdriver_manager.chrome import ChromeDriverManager\n",
    "chrome_driver_path = ChromeDriverManager().install()"
   ]
  },
  {
   "cell_type": "code",
   "execution_count": 15,
   "metadata": {},
   "outputs": [],
   "source": [
    "from selenium import webdriver\n",
    "from selenium.webdriver.chrome.service import Service as ChromeService\n",
    "from selenium.webdriver.chrome.options import Options as ChromeOption\n",
    "\n",
    "chrome_options = ChromeOption()\n",
    "chrome_options.add_argument('--headless') # uncomment for headless mode\n",
    "chrome_options.add_argument('--no-sandbox')\n",
    "#chrome_options.add_argument(\"user-data-dir=profile\") # left for debugging\n",
    "chrome_options.add_argument('--disable-dev-shm-usage')\n",
    "driver = webdriver.Chrome(service=ChromeService(chrome_driver_path),options=chrome_options)"
   ]
  },
  {
   "cell_type": "code",
   "execution_count": 12,
   "metadata": {},
   "outputs": [],
   "source": [
    "from selenium.common.exceptions import NoSuchElementException\n",
    "import pickle\n",
    "import time\n",
    "\n",
    "def exists_by_text(driver, text):\n",
    "    driver.implicitly_wait(2)\n",
    "    try:\n",
    "        driver.find_element_by_xpath(\"//*[contains(text(), '\"+str(text)+\"')]\")\n",
    "    except NoSuchElementException:\n",
    "        driver.implicitly_wait(5)\n",
    "        return False\n",
    "    driver.implicitly_wait(5)\n",
    "    return True\n",
    "\n",
    "\n",
    "def user_logged_in(driver):\n",
    "    try:\n",
    "        driver.find_element_by_xpath('//*[@id=\"file-type\"]')\n",
    "    except NoSuchElementException:\n",
    "        driver.implicitly_wait(5)\n",
    "        return False\n",
    "    driver.implicitly_wait(5)\n",
    "    return True\n",
    "\n",
    "\n",
    "def wait_for_xpath(driver, x):\n",
    "    while True:\n",
    "        try:\n",
    "            driver.find_element_by_xpath(x)\n",
    "            return True\n",
    "        except:\n",
    "            time.sleep(0.1)\n",
    "            pass\n"
   ]
  },
  {
   "cell_type": "code",
   "execution_count": 13,
   "metadata": {},
   "outputs": [],
   "source": [
    "\n",
    "colab_urls = [\"https://colab.research.google.com/drive/13tVqYkIFSa3l03skMwlCVwm7YlOi3HMw#scrollTo=SgN4xT8w40fU\"]"
   ]
  },
  {
   "cell_type": "code",
   "execution_count": 17,
   "metadata": {},
   "outputs": [
    {
     "data": {
      "text/plain": [
       "'Sign in - Google Accounts'"
      ]
     },
     "execution_count": 17,
     "metadata": {},
     "output_type": "execute_result"
    }
   ],
   "source": [
    "driver.get(colab_urls[0])\n",
    "driver.title"
   ]
  },
  {
   "cell_type": "code",
   "execution_count": 18,
   "metadata": {},
   "outputs": [
    {
     "ename": "AttributeError",
     "evalue": "'WebDriver' object has no attribute 'find_element_by_xpath'",
     "output_type": "error",
     "traceback": [
      "\u001b[0;31m---------------------------------------------------------------------------\u001b[0m",
      "\u001b[0;31mAttributeError\u001b[0m                            Traceback (most recent call last)",
      "Cell \u001b[0;32mIn [18], line 9\u001b[0m\n\u001b[1;32m      6\u001b[0m     \u001b[39mpass\u001b[39;00m\n\u001b[1;32m      7\u001b[0m driver\u001b[39m.\u001b[39mget(colab_1)\n\u001b[0;32m----> 9\u001b[0m \u001b[39mif\u001b[39;00m exists_by_text(driver, \u001b[39m\"\u001b[39;49m\u001b[39mSign in\u001b[39;49m\u001b[39m\"\u001b[39;49m):\n\u001b[1;32m     10\u001b[0m     \u001b[39mprint\u001b[39m(\u001b[39m\"\u001b[39m\u001b[39mNo auth cookie detected. Please login to Google.\u001b[39m\u001b[39m\"\u001b[39m)\n\u001b[1;32m     11\u001b[0m     driver\u001b[39m.\u001b[39mclose()\n",
      "Cell \u001b[0;32mIn [12], line 8\u001b[0m, in \u001b[0;36mexists_by_text\u001b[0;34m(driver, text)\u001b[0m\n\u001b[1;32m      6\u001b[0m driver\u001b[39m.\u001b[39mimplicitly_wait(\u001b[39m2\u001b[39m)\n\u001b[1;32m      7\u001b[0m \u001b[39mtry\u001b[39;00m:\n\u001b[0;32m----> 8\u001b[0m     driver\u001b[39m.\u001b[39;49mfind_element_by_xpath(\u001b[39m\"\u001b[39m\u001b[39m//*[contains(text(), \u001b[39m\u001b[39m'\u001b[39m\u001b[39m\"\u001b[39m\u001b[39m+\u001b[39m\u001b[39mstr\u001b[39m(text)\u001b[39m+\u001b[39m\u001b[39m\"\u001b[39m\u001b[39m'\u001b[39m\u001b[39m)]\u001b[39m\u001b[39m\"\u001b[39m)\n\u001b[1;32m      9\u001b[0m \u001b[39mexcept\u001b[39;00m NoSuchElementException:\n\u001b[1;32m     10\u001b[0m     driver\u001b[39m.\u001b[39mimplicitly_wait(\u001b[39m5\u001b[39m)\n",
      "\u001b[0;31mAttributeError\u001b[0m: 'WebDriver' object has no attribute 'find_element_by_xpath'"
     ]
    }
   ],
   "source": [
    "colab_1 = colab_urls[0]\n",
    "try:\n",
    "    for cookie in pickle.load(open(\"gCookies.pkl\", \"rb\")):\n",
    "        driver.add_cookie(cookie)\n",
    "except Exception:\n",
    "    pass\n",
    "driver.get(colab_1)\n",
    "\n",
    "if exists_by_text(driver, \"Sign in\"):\n",
    "    print(\"No auth cookie detected. Please login to Google.\")\n",
    "    driver.close()\n",
    "    driver.quit()\n",
    "    chrome_options_gui = ChromeOption()\n",
    "    chrome_options_gui.add_argument('--no-sandbox')\n",
    "    #chrome_options.add_argument(\"user-data-dir=profile\") # left for debugging\n",
    "    chrome_options_gui.add_argument('--disable-infobars')\n",
    "    driver = webdriver.Chrome('chromedriver', options=chrome_options_gui)\n",
    "    driver.get(\"https://accounts.google.com/signin\")\n",
    "    wait_for_xpath(driver, '//*[@id=\"yDmH0d\"]/c-wiz/div/div[2]/c-wiz/c-wiz/div/div[4]/div/div/header/div[2]')\n",
    "    print(\"Login detected. Saving cookie & restarting connection.\")\n",
    "    pickle.dump(driver.get_cookies(), open(\"gCookies.pkl\", \"wb\"))\n",
    "    driver.close()\n",
    "    driver.quit()\n",
    "    driver = webdriver.Chrome('chromedriver', options=chrome_options)\n",
    "\n",
    "driver.title\n"
   ]
  }
 ],
 "metadata": {
  "kernelspec": {
   "display_name": "Python 3.10.8 64-bit",
   "language": "python",
   "name": "python3"
  },
  "language_info": {
   "codemirror_mode": {
    "name": "ipython",
    "version": 3
   },
   "file_extension": ".py",
   "mimetype": "text/x-python",
   "name": "python",
   "nbconvert_exporter": "python",
   "pygments_lexer": "ipython3",
   "version": "3.10.8"
  },
  "orig_nbformat": 4,
  "vscode": {
   "interpreter": {
    "hash": "949777d72b0d2535278d3dc13498b2535136f6dfe0678499012e853ee9abcab1"
   }
  }
 },
 "nbformat": 4,
 "nbformat_minor": 2
}
